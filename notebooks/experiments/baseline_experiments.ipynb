{
 "cells": [
  {
   "cell_type": "code",
   "execution_count": 1,
   "id": "d77d0040-2234-4c70-824e-2ee989a6350e",
   "metadata": {
    "tags": []
   },
   "outputs": [],
   "source": [
    "import pandas as pd\n",
    "import os\n",
    "from matplotlib import pyplot as plt\n",
    "from comet_ml import Experiment\n",
    "from comet_ml.integration.sklearn import log_model\n",
    "\n",
    "from dotenv import load_dotenv, find_dotenv\n",
    "from sklearn.linear_model import LogisticRegression\n",
    "from sklearn import metrics \n",
    "from sklearn.metrics import roc_curve, auc\n",
    "\n",
    "import pickle\n",
    "load_dotenv(find_dotenv())\n",
    "\n",
    "COMET_API_KEY = os.environ.get(\"COMET_API_KEY\")"
   ]
  },
  {
   "cell_type": "code",
   "execution_count": null,
   "id": "e423b47e-d443-497c-aad9-ae22c488c672",
   "metadata": {
    "tags": []
   },
   "outputs": [],
   "source": [
    "\n",
    "\n"
   ]
  },
  {
   "cell_type": "code",
   "execution_count": 2,
   "id": "d8c708ad-b01d-4fb1-8108-49b2070f535c",
   "metadata": {
    "tags": []
   },
   "outputs": [
    {
     "name": "stdout",
     "output_type": "stream",
     "text": [
      "__init__.py                 baseline_experiments.ipynb\n"
     ]
    }
   ],
   "source": [
    "ls"
   ]
  },
  {
   "cell_type": "code",
   "execution_count": 3,
   "id": "a6635da7-24f8-4404-b9a1-5adc97ecc6a9",
   "metadata": {
    "tags": []
   },
   "outputs": [
    {
     "data": {
      "text/html": [
       "<div>\n",
       "<style scoped>\n",
       "    .dataframe tbody tr th:only-of-type {\n",
       "        vertical-align: middle;\n",
       "    }\n",
       "\n",
       "    .dataframe tbody tr th {\n",
       "        vertical-align: top;\n",
       "    }\n",
       "\n",
       "    .dataframe thead th {\n",
       "        text-align: right;\n",
       "    }\n",
       "</style>\n",
       "<table border=\"1\" class=\"dataframe\">\n",
       "  <thead>\n",
       "    <tr style=\"text-align: right;\">\n",
       "      <th></th>\n",
       "      <th>gamePk</th>\n",
       "      <th>season</th>\n",
       "      <th>gameType</th>\n",
       "      <th>home</th>\n",
       "      <th>away</th>\n",
       "      <th>eventTypeId</th>\n",
       "      <th>shotType</th>\n",
       "      <th>shooter</th>\n",
       "      <th>shooterTeam</th>\n",
       "      <th>distance</th>\n",
       "      <th>angle</th>\n",
       "      <th>goalie</th>\n",
       "      <th>eventPeriod</th>\n",
       "      <th>eventPeriodType</th>\n",
       "      <th>x</th>\n",
       "      <th>y</th>\n",
       "      <th>emptyNet</th>\n",
       "      <th>isGoal</th>\n",
       "    </tr>\n",
       "  </thead>\n",
       "  <tbody>\n",
       "    <tr>\n",
       "      <th>0</th>\n",
       "      <td>2016020001</td>\n",
       "      <td>20162017</td>\n",
       "      <td>R</td>\n",
       "      <td>Ottawa Senators</td>\n",
       "      <td>Toronto Maple Leafs</td>\n",
       "      <td>HIT</td>\n",
       "      <td>NaN</td>\n",
       "      <td>NaN</td>\n",
       "      <td>NaN</td>\n",
       "      <td>NaN</td>\n",
       "      <td>NaN</td>\n",
       "      <td>NaN</td>\n",
       "      <td>3</td>\n",
       "      <td>REGULAR</td>\n",
       "      <td>-51.0</td>\n",
       "      <td>35.0</td>\n",
       "      <td>0</td>\n",
       "      <td>0</td>\n",
       "    </tr>\n",
       "    <tr>\n",
       "      <th>1</th>\n",
       "      <td>2016020001</td>\n",
       "      <td>20162017</td>\n",
       "      <td>R</td>\n",
       "      <td>Ottawa Senators</td>\n",
       "      <td>Toronto Maple Leafs</td>\n",
       "      <td>FACEOFF</td>\n",
       "      <td>NaN</td>\n",
       "      <td>NaN</td>\n",
       "      <td>NaN</td>\n",
       "      <td>NaN</td>\n",
       "      <td>NaN</td>\n",
       "      <td>NaN</td>\n",
       "      <td>2</td>\n",
       "      <td>REGULAR</td>\n",
       "      <td>69.0</td>\n",
       "      <td>22.0</td>\n",
       "      <td>0</td>\n",
       "      <td>0</td>\n",
       "    </tr>\n",
       "  </tbody>\n",
       "</table>\n",
       "</div>"
      ],
      "text/plain": [
       "       gamePk    season gameType             home                 away  \\\n",
       "0  2016020001  20162017        R  Ottawa Senators  Toronto Maple Leafs   \n",
       "1  2016020001  20162017        R  Ottawa Senators  Toronto Maple Leafs   \n",
       "\n",
       "  eventTypeId shotType shooter shooterTeam distance angle goalie  eventPeriod  \\\n",
       "0         HIT      NaN     NaN         NaN      NaN   NaN    NaN            3   \n",
       "1     FACEOFF      NaN     NaN         NaN      NaN   NaN    NaN            2   \n",
       "\n",
       "  eventPeriodType     x     y  emptyNet  isGoal  \n",
       "0         REGULAR -51.0  35.0         0       0  \n",
       "1         REGULAR  69.0  22.0         0       0  "
      ]
     },
     "execution_count": 3,
     "metadata": {},
     "output_type": "execute_result"
    }
   ],
   "source": [
    "df = pd.read_csv(\"./../../data/FE1/20162019_clean 4.csv\")\n",
    "df.head(2)"
   ]
  },
  {
   "cell_type": "code",
   "execution_count": 4,
   "id": "8d4a7486-78c9-4dbf-8175-dff8d6fbb0fc",
   "metadata": {
    "tags": []
   },
   "outputs": [
    {
     "data": {
      "text/plain": [
       "array([nan, 'Wrist Shot', 'Snap Shot', 'Slap Shot', 'Tip-In', 'Backhand',\n",
       "       'Deflected', 'Wrap-around'], dtype=object)"
      ]
     },
     "execution_count": 4,
     "metadata": {},
     "output_type": "execute_result"
    }
   ],
   "source": [
    "df.shotType.unique()"
   ]
  },
  {
   "cell_type": "code",
   "execution_count": 5,
   "id": "72c73ce5-9b96-4943-8f4e-e7713962138a",
   "metadata": {
    "tags": []
   },
   "outputs": [
    {
     "data": {
      "text/plain": [
       "1361282"
      ]
     },
     "execution_count": 5,
     "metadata": {},
     "output_type": "execute_result"
    }
   ],
   "source": [
    "df.shotType.isna().sum()"
   ]
  },
  {
   "cell_type": "code",
   "execution_count": 6,
   "id": "161b54c6-2849-4ead-9872-df01c7c54d6e",
   "metadata": {
    "tags": []
   },
   "outputs": [],
   "source": [
    "cleaned_df = df[(~df.distance.isna())]\n",
    "cleaned_df =  cleaned_df[cleaned_df['distance']!='shoot out']"
   ]
  },
  {
   "cell_type": "code",
   "execution_count": 7,
   "id": "c11d0251-78b3-4a9d-b05b-bb472a862b39",
   "metadata": {
    "tags": []
   },
   "outputs": [
    {
     "data": {
      "text/plain": [
       "array([20162017, 20172018, 20182019, 20192020])"
      ]
     },
     "execution_count": 7,
     "metadata": {},
     "output_type": "execute_result"
    }
   ],
   "source": [
    "cleaned_df.season.unique()"
   ]
  },
  {
   "cell_type": "markdown",
   "id": "d4db3193-7f12-40ee-af11-17e271e5f1f2",
   "metadata": {},
   "source": [
    "## Train and Validation split\n",
    "\n",
    "- Here, we will use season `{20162017, 20172018, 20182019}` in training and `{20192020}` for validation."
   ]
  },
  {
   "cell_type": "code",
   "execution_count": 8,
   "id": "2d4200b6-4a66-485d-bdec-7c81a4790789",
   "metadata": {
    "tags": []
   },
   "outputs": [
    {
     "name": "stdout",
     "output_type": "stream",
     "text": [
      "(315818, 18) (245555, 18) (70263, 18)\n"
     ]
    }
   ],
   "source": [
    "train_seasons = [20162017, 20172018, 20182019]\n",
    "train_df = cleaned_df[cleaned_df.season.isin(train_seasons)]\n",
    "test_df = cleaned_df[~cleaned_df.season.isin(train_seasons)]\n",
    "print(cleaned_df.shape, train_df.shape, test_df.shape)"
   ]
  },
  {
   "cell_type": "code",
   "execution_count": 9,
   "id": "4bf67c5f-a8c9-4bc9-bb57-2d0567f45d36",
   "metadata": {
    "tags": []
   },
   "outputs": [],
   "source": [
    "def plot_roc_curve(model, X_val, y_val,title, experiment=None):\n",
    "    \n",
    "    fpr, tpr, thresholds = roc_curve( y_val, model.predict_proba(X_val)[:,1] )\n",
    "    \n",
    "    roc_auc = auc(fpr, tpr)\n",
    "\n",
    "    plt.figure(figsize=(8, 6))\n",
    "    plt.plot(fpr, tpr, color='darkorange', lw=2, label='ROC curve (area = %0.2f)' % roc_auc)\n",
    "    plt.plot([0, 1], [0, 1], color='navy', lw=2,label='random baseline', linestyle='--')\n",
    "    plt.xlim([0.0, 1.0])\n",
    "    plt.ylim([0.0, 1.05])\n",
    "    plt.xlabel('False Positive Rate')\n",
    "    plt.ylabel('True Positive Rate')\n",
    "    plt.title(title)\n",
    "    plt.legend(loc=\"lower right\")\n",
    "    if experiment:\n",
    "        experiment.log_figure(figure_name=title, step=None)\n",
    "    plt.show()"
   ]
  },
  {
   "cell_type": "code",
   "execution_count": 10,
   "id": "73ff456c-d8aa-4328-9d92-44489d858f00",
   "metadata": {
    "tags": []
   },
   "outputs": [],
   "source": [
    "def run_experiment(name, model, X_train, y_train, X_test, y_test, ckpt_path=\"./../../models/\"):\n",
    "    experiment = Experiment(\n",
    "      api_key=COMET_API_KEY,\n",
    "      project_name=\"baselines\",\n",
    "      workspace=\"ift6758-milestone2-udem\"\n",
    "    )\n",
    "    \n",
    "    model.fit(X_train,y_train)\n",
    "    file_name = name + '.pkl'\n",
    "    with open(os.path.join(ckpt_path, file_name), 'wb') as file:  \n",
    "        pickle.dump(model, file)    \n",
    "    y_pred = model.predict(X_test)\n",
    "    \n",
    "    test_acc = metrics.accuracy_score(y_test, y_pred)\n",
    "    print(f\"Test accuracy :{test_acc}\")\n",
    "    plot_roc_curve(model, X_val, y_val,title=\"Baseline model AUROC\", experiment=experiment)\n",
    "    \n",
    "    \n",
    "    experiment.log_metric(\"Test accuracy\", test_acc)\n",
    "    experiment.log_model(name, os.path.join(ckpt_path, file_name))\n",
    "    experiment.end()"
   ]
  },
  {
   "cell_type": "code",
   "execution_count": 11,
   "id": "98e9d242-647f-471e-a50b-9d65f337a6e2",
   "metadata": {
    "tags": []
   },
   "outputs": [],
   "source": [
    "model = LogisticRegression()"
   ]
  },
  {
   "cell_type": "code",
   "execution_count": 12,
   "id": "8862accc-df1f-4dda-af4c-5a90a33536ed",
   "metadata": {
    "tags": []
   },
   "outputs": [],
   "source": [
    "X_train = train_df[['distance']]\n",
    "y_train = train_df[['isGoal']]\n",
    "\n",
    "X_val = test_df[['distance']]\n",
    "y_val = test_df[['isGoal']]"
   ]
  },
  {
   "cell_type": "code",
   "execution_count": 13,
   "id": "0a5e4063-ecd3-4481-beb2-4f4ed9f3118c",
   "metadata": {
    "tags": []
   },
   "outputs": [
    {
     "data": {
      "text/plain": [
       "(245555, 1)"
      ]
     },
     "execution_count": 13,
     "metadata": {},
     "output_type": "execute_result"
    }
   ],
   "source": [
    "X_train.values.shape"
   ]
  },
  {
   "cell_type": "code",
   "execution_count": 14,
   "id": "65f93a65-89f8-4583-b363-f450581995ab",
   "metadata": {
    "tags": []
   },
   "outputs": [
    {
     "name": "stderr",
     "output_type": "stream",
     "text": [
      "\u001b[1;38;5;214mCOMET WARNING:\u001b[0m As you are running in a Jupyter environment, you will need to call `experiment.end()` when finished to ensure all metrics and code are logged before exiting.\n",
      "\u001b[1;38;5;39mCOMET INFO:\u001b[0m Experiment is live on comet.com https://www.comet.com/ift6758-milestone2-udem/baselines/e1d7879aa4894430b3bc04c41e4d279c\n",
      "\n",
      "/Users/iamyash/anaconda3/lib/python3.11/site-packages/sklearn/utils/validation.py:1184: DataConversionWarning: A column-vector y was passed when a 1d array was expected. Please change the shape of y to (n_samples, ), for example using ravel().\n",
      "  y = column_or_1d(y, warn=True)\n"
     ]
    },
    {
     "name": "stdout",
     "output_type": "stream",
     "text": [
      "Test accuracy :0.9055406117017492\n"
     ]
    },
    {
     "data": {
      "image/png": "[encoded data removed]",
      "text/plain": [
       "<Figure size 800x600 with 1 Axes>"
      ]
     },
     "metadata": {},
     "output_type": "display_data"
    },
    {
     "name": "stderr",
     "output_type": "stream",
     "text": [
      "\u001b[1;38;5;39mCOMET INFO:\u001b[0m ---------------------------------------------------------------------------------------\n",
      "\u001b[1;38;5;39mCOMET INFO:\u001b[0m Comet.ml Experiment Summary\n",
      "\u001b[1;38;5;39mCOMET INFO:\u001b[0m ---------------------------------------------------------------------------------------\n",
      "\u001b[1;38;5;39mCOMET INFO:\u001b[0m   Data:\n",
      "\u001b[1;38;5;39mCOMET INFO:\u001b[0m     display_summary_level : 1\n",
      "\u001b[1;38;5;39mCOMET INFO:\u001b[0m     url                   : https://www.comet.com/ift6758-milestone2-udem/baselines/e1d7879aa4894430b3bc04c41e4d279c\n",
      "\u001b[1;38;5;39mCOMET INFO:\u001b[0m   Metrics:\n",
      "\u001b[1;38;5;39mCOMET INFO:\u001b[0m     Test accuracy : 0.9055406117017492\n",
      "\u001b[1;38;5;39mCOMET INFO:\u001b[0m   Parameters:\n",
      "\u001b[1;38;5;39mCOMET INFO:\u001b[0m     C                 : 1.0\n",
      "\u001b[1;38;5;39mCOMET INFO:\u001b[0m     class_weight      : None\n",
      "\u001b[1;38;5;39mCOMET INFO:\u001b[0m     dual              : False\n",
      "\u001b[1;38;5;39mCOMET INFO:\u001b[0m     fit_intercept     : True\n",
      "\u001b[1;38;5;39mCOMET INFO:\u001b[0m     intercept_scaling : 1\n",
      "\u001b[1;38;5;39mCOMET INFO:\u001b[0m     l1_ratio          : None\n",
      "\u001b[1;38;5;39mCOMET INFO:\u001b[0m     max_iter          : 100\n",
      "\u001b[1;38;5;39mCOMET INFO:\u001b[0m     multi_class       : auto\n",
      "\u001b[1;38;5;39mCOMET INFO:\u001b[0m     n_jobs            : None\n",
      "\u001b[1;38;5;39mCOMET INFO:\u001b[0m     penalty           : l2\n",
      "\u001b[1;38;5;39mCOMET INFO:\u001b[0m     random_state      : None\n",
      "\u001b[1;38;5;39mCOMET INFO:\u001b[0m     solver            : lbfgs\n",
      "\u001b[1;38;5;39mCOMET INFO:\u001b[0m     tol               : 0.0001\n",
      "\u001b[1;38;5;39mCOMET INFO:\u001b[0m     verbose           : 0\n",
      "\u001b[1;38;5;39mCOMET INFO:\u001b[0m     warm_start        : False\n",
      "\u001b[1;38;5;39mCOMET INFO:\u001b[0m   Uploads:\n",
      "\u001b[1;38;5;39mCOMET INFO:\u001b[0m     conda-environment-definition : 1\n",
      "\u001b[1;38;5;39mCOMET INFO:\u001b[0m     conda-info                   : 1\n",
      "\u001b[1;38;5;39mCOMET INFO:\u001b[0m     conda-specification          : 1\n",
      "\u001b[1;38;5;39mCOMET INFO:\u001b[0m     environment details          : 1\n",
      "\u001b[1;38;5;39mCOMET INFO:\u001b[0m     figures                      : 1\n",
      "\u001b[1;38;5;39mCOMET INFO:\u001b[0m     filename                     : 1\n",
      "\u001b[1;38;5;39mCOMET INFO:\u001b[0m     git metadata                 : 1\n",
      "\u001b[1;38;5;39mCOMET INFO:\u001b[0m     git-patch (uncompressed)     : 1 (485 bytes)\n",
      "\u001b[1;38;5;39mCOMET INFO:\u001b[0m     installed packages           : 1\n",
      "\u001b[1;38;5;39mCOMET INFO:\u001b[0m     model-element                : 1 (813 bytes)\n",
      "\u001b[1;38;5;39mCOMET INFO:\u001b[0m     notebook                     : 1\n",
      "\u001b[1;38;5;39mCOMET INFO:\u001b[0m     source_code                  : 1\n",
      "\u001b[1;38;5;39mCOMET INFO:\u001b[0m \n"
     ]
    }
   ],
   "source": [
    "run_experiment(\"baseline_model\", model, X_train, y_train, X_val, y_val, )"
   ]
  },
  {
   "cell_type": "code",
   "execution_count": 15,
   "id": "3bfff5c3-4fe7-4397-83b5-4ee5707cb9f0",
   "metadata": {
    "tags": []
   },
   "outputs": [
    {
     "data": {
      "text/plain": [
       "isGoal\n",
       "0    286591\n",
       "1     29227\n",
       "Name: count, dtype: int64"
      ]
     },
     "execution_count": 15,
     "metadata": {},
     "output_type": "execute_result"
    }
   ],
   "source": [
    "cleaned_df.isGoal.value_counts()"
   ]
  },
  {
   "cell_type": "code",
   "execution_count": null,
   "id": "cd14010b-9d75-4e9d-a0a2-b40a08e37aa0",
   "metadata": {},
   "outputs": [],
   "source": [
    "\n",
    "    \n"
   ]
  },
  {
   "cell_type": "code",
   "execution_count": null,
   "id": "2fec72bf-e42b-41f8-b898-5ed05cb4fd6c",
   "metadata": {},
   "outputs": [],
   "source": []
  },
  {
   "cell_type": "code",
   "execution_count": null,
   "id": "087b210f-816f-4c29-90cc-8c6a7c6b932c",
   "metadata": {},
   "outputs": [],
   "source": []
  }
 ],
 "metadata": {
  "kernelspec": {
   "display_name": "Python 3 (ipykernel)",
   "language": "python",
   "name": "python3"
  },
  "language_info": {
   "codemirror_mode": {
    "name": "ipython",
    "version": 3
   },
   "file_extension": ".py",
   "mimetype": "text/x-python",
   "name": "python",
   "nbconvert_exporter": "python",
   "pygments_lexer": "ipython3",
   "version": "3.11.5"
  }
 },
 "nbformat": 4,
 "nbformat_minor": 5
}
