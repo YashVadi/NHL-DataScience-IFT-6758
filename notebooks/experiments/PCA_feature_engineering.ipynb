{
 "cells": [
  {
   "cell_type": "code",
   "execution_count": 1,
   "id": "79bbfbca-e16b-4c49-b74e-ce0e202d53e8",
   "metadata": {
    "tags": []
   },
   "outputs": [],
   "source": [
    "from sklearn.decomposition import PCA\n",
    "from sklearn.preprocessing import StandardScaler"
   ]
  },
  {
   "cell_type": "code",
   "execution_count": 7,
   "id": "e588cc19-5d35-4493-af4a-bbee46748f2c",
   "metadata": {
    "tags": []
   },
   "outputs": [],
   "source": [
    "from utils import *\n",
    "from plot_graphe import *"
   ]
  },
  {
   "cell_type": "code",
   "execution_count": 9,
   "id": "823439d3-5ce8-4adc-a675-59c062ca44d5",
   "metadata": {
    "tags": []
   },
   "outputs": [],
   "source": [
    "def replace_inf(df):\n",
    "    max = np.sort(df['speed'].unique())[-3]\n",
    "    return df['speed'].replace(np.inf,max)"
   ]
  },
  {
   "cell_type": "code",
   "execution_count": 10,
   "id": "df7d4c4d-fa99-47b0-aa0e-b884a94291da",
   "metadata": {
    "tags": []
   },
   "outputs": [],
   "source": [
    "data = pd.read_csv('X_train_oneHot.csv')\n",
    "X,y = get_X_y(data)\n",
    "X_train,X_val,y_train,y_val = train_test_split(X,y,test_size = 0.2,random_state = 1)\n",
    "X_train['speed'] = replace_inf(X_train)\n",
    "X_val['speed'] = replace_inf(X_val)"
   ]
  },
  {
   "cell_type": "code",
   "execution_count": 12,
   "id": "7623d6fc-388b-4b0d-9dbd-4886b28ed165",
   "metadata": {
    "tags": []
   },
   "outputs": [],
   "source": [
    "fill_nan_with_mode(X_train)\n",
    "scaler = StandardScaler()\n",
    "X_train_scaled = scaler.fit_transform(X_train)\n",
    "\n",
    "pca = PCA(n_components=0.95)\n",
    "pca.fit(X_train_scaled)\n",
    "X_train_pca = pca.transform(X_train_scaled)"
   ]
  },
  {
   "cell_type": "code",
   "execution_count": 14,
   "id": "3d4992c1-e431-45b7-b7c9-d71fd8ba6556",
   "metadata": {},
   "outputs": [
    {
     "data": {
      "text/plain": [
       "(261838, 29)"
      ]
     },
     "execution_count": 14,
     "metadata": {},
     "output_type": "execute_result"
    }
   ],
   "source": [
    "X_train_pca.shape"
   ]
  },
  {
   "cell_type": "code",
   "execution_count": null,
   "id": "46cc28e9-c0e2-42c3-8b57-40106065b643",
   "metadata": {},
   "outputs": [],
   "source": []
  }
 ],
 "metadata": {
  "kernelspec": {
   "display_name": "Python 3 (ipykernel)",
   "language": "python",
   "name": "python3"
  },
  "language_info": {
   "codemirror_mode": {
    "name": "ipython",
    "version": 3
   },
   "file_extension": ".py",
   "mimetype": "text/x-python",
   "name": "python",
   "nbconvert_exporter": "python",
   "pygments_lexer": "ipython3",
   "version": "3.8.18"
  }
 },
 "nbformat": 4,
 "nbformat_minor": 5
}
