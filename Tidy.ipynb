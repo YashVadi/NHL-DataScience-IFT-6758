{
 "cells": [
  {
   "cell_type": "code",
   "execution_count": 1,
   "id": "de05bee5",
   "metadata": {},
   "outputs": [],
   "source": [
    "import pandas as pd\n",
    "import os\n",
    "import json\n",
    "from datetime import datetime\n",
    "from tqdm import tqdm\n",
    "import math"
   ]
  },
  {
   "cell_type": "code",
   "execution_count": 2,
   "id": "faeda4e2",
   "metadata": {},
   "outputs": [],
   "source": [
    "def get_all_files_path_under(folder_path):\n",
    "    \n",
    "    all_jsons = []\n",
    "\n",
    "    for root, dirs, files in os.walk(folder_path):\n",
    "        for file in files:\n",
    "            file_path = os.path.join(root, file)\n",
    "            all_jsons.append( os.path.normpath (file_path) )\n",
    "    return all_jsons\n"
   ]
  },
  {
   "cell_type": "code",
   "execution_count": 3,
   "id": "31ae131b",
   "metadata": {},
   "outputs": [],
   "source": [
    "from dateutil import parser\n",
    "def time_difference(datetime_str1,datetime_str2):\n",
    "    # Define your two datetime strings\n",
    "    datetime_str1 = '2017-04-12T23:00:00Z'\n",
    "    datetime_str2 = '2017-04-13T01:41:46Z'\n",
    "\n",
    "    # Parse the datetime strings into datetime objects\n",
    "    datetime_obj1 = parser.parse(datetime_str1)\n",
    "    datetime_obj2 = parser.parse(datetime_str2)\n",
    "\n",
    "    # Calculate the time difference\n",
    "    time_difference = datetime_obj2 - datetime_obj1\n",
    "\n",
    "    # Extract hours and minutes from the time difference\n",
    "    hours, remainder = divmod(time_difference.total_seconds(), 3600)\n",
    "    minutes = remainder / 60\n",
    "\n",
    "    # Print the result\n",
    "    return f\"{int(hours)} hours and {int(minutes)} minutes\"\n"
   ]
  },
  {
   "cell_type": "code",
   "execution_count": 4,
   "id": "a3b86bdf",
   "metadata": {},
   "outputs": [],
   "source": [
    "def get_periodes(data):\n",
    "    periods = data.get('liveData').get('linescore').get('periods')\n",
    "    my_dict = {i: None for i in range(1,len(periods)+1)}\n",
    "    for i in range(len(periods)):\n",
    "        my_dict[i+1] = {'home': periods[i].get('home').get('rinkSide'), 'away':periods[i].get('away').get('rinkSide') }\n",
    "    return my_dict"
   ]
  },
  {
   "cell_type": "code",
   "execution_count": 5,
   "id": "13e9a1b0",
   "metadata": {},
   "outputs": [],
   "source": [
    "def home_or_away(shooterTeam,home,away):\n",
    "    if shooterTeam == home:\n",
    "        return str('home')\n",
    "    if shooterTeam == away:\n",
    "        return str('away')"
   ]
  },
  {
   "cell_type": "code",
   "execution_count": 6,
   "id": "260aa1bd",
   "metadata": {},
   "outputs": [],
   "source": [
    "def get_distance(eventPeriod,home_away,x,y,rink_info):\n",
    "        if eventPeriod == 5:\n",
    "            return 'shoot out'\n",
    "        if home_away == 'home':\n",
    "            rinkSide = rink_info[eventPeriod]['home']\n",
    "            if rinkSide == 'right':\n",
    "                return  math.sqrt((x +100)**2 + (y)**2)\n",
    "            if rinkSide == 'left':\n",
    "                return  math.sqrt((x -100)**2 + (y)**2)\n",
    "        if home_away == 'away':\n",
    "            rinkSide = rink_info[eventPeriod]['away']\n",
    "            if rinkSide == 'right':\n",
    "                return  math.sqrt((x +100)**2 + (y)**2)\n",
    "            if rinkSide == 'left':\n",
    "                return  math.sqrt((x -100)**2 + (y)**2)\n"
   ]
  },
  {
   "cell_type": "code",
   "execution_count": 7,
   "id": "912d4d85",
   "metadata": {},
   "outputs": [],
   "source": [
    "data_folder = 'data/'\n",
    "folder_path_20162017P = data_folder + '2016-2017/P'\n",
    "folder_path_20162017R = data_folder +'2016-2017/R'"
   ]
  },
  {
   "cell_type": "code",
   "execution_count": 8,
   "id": "73a1d7ec-0e7e-4399-b345-a6dba9575b18",
   "metadata": {},
   "outputs": [],
   "source": [
    "folder_path_20172018P = data_folder  + '2017-2018/P'\n",
    "folder_path_20172018R = data_folder  + '2017-2018/R'"
   ]
  },
  {
   "cell_type": "code",
   "execution_count": 9,
   "id": "481ee541",
   "metadata": {},
   "outputs": [],
   "source": [
    "folder_path_20182019P = data_folder  + '2018-2019/P'\n",
    "folder_path_20182019R = data_folder  + '2018-2019/R'"
   ]
  },
  {
   "cell_type": "code",
   "execution_count": 10,
   "id": "f8c3568f",
   "metadata": {},
   "outputs": [],
   "source": [
    "folder_path_20192020P = data_folder  + '2019-2020/P'\n",
    "folder_path_20192020R = data_folder  + '2019-2020/R'"
   ]
  },
  {
   "cell_type": "code",
   "execution_count": 11,
   "id": "61040209",
   "metadata": {},
   "outputs": [],
   "source": [
    "folder_path_20202021P = data_folder  + '2020-2021/P'\n",
    "folder_path_20202021R = data_folder  + '2020-2021/R'"
   ]
  },
  {
   "cell_type": "code",
   "execution_count": 12,
   "id": "40c2ff7d",
   "metadata": {},
   "outputs": [],
   "source": [
    "def create_csv(folder_path):\n",
    "    data_to_tidy = get_all_files_path_under(folder_path)\n",
    "    #columns = ['gamePk','season','gameType','gameStart_time','gameEnd_time','gameDuring','home','away',\n",
    " #'eventIdx','eventId','eventTypeId','shotType','shooter','goalie','eventPeriod','eventPeriodType','x','y'\n",
    "\n",
    "#]\n",
    "    #df = dd.from_pandas(pd.DataFrame(columns = columns), npartitions=1)\n",
    "    data_list = []\n",
    "    for j in tqdm(range(len(data_to_tidy))):\n",
    "        json_file = data_to_tidy[j]\n",
    "\n",
    "        with open(json_file) as json_file:\n",
    "            data = json.load(json_file)\n",
    "\n",
    "        gamePk = data.get('gamePk')\n",
    "\n",
    "        gameData = data.get('gameData')\n",
    "        game = gameData.get('game')\n",
    "        season = game.get('season')\n",
    "        gameType = game.get('type')\n",
    "        gameStart_time = gameData.get('datetime').get('dateTime')\n",
    "        gameEnd_time = gameData.get('datetime').get('endDateTime')\n",
    "        gameDuring = time_difference(gameStart_time, gameEnd_time)\n",
    "\n",
    "        teams = gameData.get('teams')\n",
    "        home =  teams.get('home').get('name')\n",
    "        away =  teams.get('away').get('name')\n",
    "        \n",
    "        rink_info = get_periodes(data)\n",
    "        plays = data.get('liveData').get('plays').get('allPlays')\n",
    "     \n",
    "        for i in range(len(plays)):\n",
    "\n",
    "            play = plays[i]\n",
    "            about= play.get('about')\n",
    "            res = play.get('result')\n",
    "            eventIdx = about.get('eventIdx')\n",
    "            eventId = about.get('eventId')\n",
    "            eventTypeId = res.get('eventTypeId')\n",
    "            eventPeriod = about.get('period')\n",
    "            eventPeriodType = about.get('periodType')\n",
    "            \n",
    "       \n",
    "\n",
    "            shotType = shooter = goalie =shooterTeam = shotResult= distance = None\n",
    "            players = play.get('players')\n",
    "              \n",
    "            players = play.get('players')\n",
    "            if eventTypeId == 'SHOT':\n",
    "                shotType =  res.get('secondaryType')\n",
    "                shooterTeam = play.get('team').get('name') \n",
    "                for player in players:\n",
    "                    if player.get('playerType') == \"Shooter\":\n",
    "                        shooter = player.get('player').get('fullName')\n",
    "                    if  player.get('playerType') == \"Goalie\":\n",
    "                        goalie = player.get('player').get('fullName')\n",
    "\n",
    "            if eventTypeId == 'GOAL':\n",
    "                shotType =  res.get('secondaryType') \n",
    "                shooterTeam = play.get('team').get('name') \n",
    "                for player in players:\n",
    "                    if player.get('playerType') == 'Scorer':\n",
    "                        shooter = player.get('player').get('fullName')\n",
    "                    if  player.get('playerType') == \"Goalie\":\n",
    "                        goalie = player.get('player').get('fullName') +'(failed)'\n",
    "\n",
    "            if play.get('coordinates') == {}:\n",
    "                            x = None\n",
    "                            y = None\n",
    "            else:\n",
    "                            for coord in play.get('coordinates'):\n",
    "                                if coord == 'x':\n",
    "                                     x = play.get('coordinates')['x']\n",
    "                                if coord == 'y':\n",
    "                                     y = play.get('coordinates')['y']\n",
    "            if shooterTeam is not None:  \n",
    "                 if play.get('coordinates') != {}:\n",
    "                    home_away = home_or_away(shooterTeam,home,away)   \n",
    "                    distance =  get_distance(eventPeriod,home_away,x,y,rink_info)                            \n",
    "\n",
    "            new_row = {'gamePk':gamePk,'season':season,'gameType':gameType,'gameStart_time':gameStart_time,\n",
    "                       'gameEnd_time':gameEnd_time,'gameDuring':gameDuring,'home':home,'away':away,\n",
    "                        'eventIdx':eventIdx,'eventId':eventId,'eventTypeId':eventTypeId,'shotType':shotType,\n",
    "                       'shooter':shooter,'shooterTeam':shooterTeam,'distance':distance ,'goalie':goalie,\n",
    "                       'eventPeriod':eventPeriod,\n",
    "                       'eventPeriodType':eventPeriodType,'x':x,'y':y\n",
    "\n",
    "                      }\n",
    "            \n",
    "            #df_to_concat = dd.from_pandas(pd.DataFrame(new_row,index=index)， npartitions=2)\n",
    "            #df = dd.concat([df, df_to_concat])\n",
    "            data_list.append(new_row)\n",
    "    df = pd.DataFrame(data_list)        \n",
    "    path =os.path.normpath(folder_path) \n",
    "    path.split('/')[-2:]\n",
    "    csv_name = path.split('/')[-2]+'_'+ path.split('/')[-1]+'_clean'+'.csv'\n",
    "    df.to_csv(csv_name, encoding='utf-8', index=False)\n",
    "           \n"
   ]
  },
  {
   "cell_type": "code",
   "execution_count": 13,
   "id": "71aa5f90",
   "metadata": {
    "scrolled": true
   },
   "outputs": [
    {
     "name": "stderr",
     "output_type": "stream",
     "text": [
      "100%|██████████████████████████████████████████| 87/87 [00:00<00:00, 203.91it/s]\n",
      "100%|██████████████████████████████████████| 1230/1230 [00:04<00:00, 248.73it/s]\n"
     ]
    }
   ],
   "source": [
    "create_csv(folder_path_20162017P )\n",
    "create_csv(folder_path_20162017R)"
   ]
  },
  {
   "cell_type": "code",
   "execution_count": 14,
   "id": "5d18f4ef-885a-4822-8900-474d1a05cd20",
   "metadata": {},
   "outputs": [
    {
     "name": "stderr",
     "output_type": "stream",
     "text": [
      "100%|██████████████████████████████████████████| 84/84 [00:00<00:00, 224.29it/s]\n",
      "100%|██████████████████████████████████████| 1271/1271 [00:05<00:00, 242.85it/s]\n"
     ]
    }
   ],
   "source": [
    "create_csv(folder_path_20172018P )\n",
    "create_csv(folder_path_20172018R)"
   ]
  },
  {
   "cell_type": "code",
   "execution_count": 15,
   "id": "84416b17",
   "metadata": {},
   "outputs": [
    {
     "name": "stderr",
     "output_type": "stream",
     "text": [
      "100%|██████████████████████████████████████████| 87/87 [00:00<00:00, 213.90it/s]\n",
      "100%|██████████████████████████████████████| 1271/1271 [00:05<00:00, 246.84it/s]\n"
     ]
    }
   ],
   "source": [
    "create_csv(folder_path_20182019P)\n",
    "create_csv(folder_path_20182019R)"
   ]
  },
  {
   "cell_type": "code",
   "execution_count": 16,
   "id": "7575f375",
   "metadata": {},
   "outputs": [
    {
     "name": "stderr",
     "output_type": "stream",
     "text": [
      "100%|██████████████████████████████████████████| 86/86 [00:00<00:00, 204.92it/s]\n",
      "100%|██████████████████████████████████████| 1082/1082 [00:04<00:00, 217.55it/s]\n"
     ]
    }
   ],
   "source": [
    "create_csv(folder_path_20192020P)\n",
    "create_csv(folder_path_20192020R)"
   ]
  },
  {
   "cell_type": "code",
   "execution_count": 17,
   "id": "2fcd6696",
   "metadata": {},
   "outputs": [
    {
     "name": "stderr",
     "output_type": "stream",
     "text": [
      "100%|██████████████████████████████████████████| 84/84 [00:00<00:00, 207.43it/s]\n",
      "100%|████████████████████████████████████████| 867/867 [00:03<00:00, 261.77it/s]\n"
     ]
    }
   ],
   "source": [
    "create_csv(folder_path_20202021P)\n",
    "create_csv(folder_path_20202021R)"
   ]
  },
  {
   "cell_type": "code",
   "execution_count": 18,
   "id": "e421bc2f",
   "metadata": {},
   "outputs": [],
   "source": [
    "df20162017R = pd.read_csv('2016-2017_R_clean.csv')\n",
    "df20162017P = pd.read_csv('2016-2017_P_clean.csv')\n",
    "df20162017 = pd.concat([df20162017R,df20162017P])\n",
    "df20162017.to_csv('20162017_clean.csv', encoding='utf-8', index=False)"
   ]
  },
  {
   "cell_type": "code",
   "execution_count": 19,
   "id": "254ff414-ca08-4441-a465-cbad699eed5f",
   "metadata": {},
   "outputs": [],
   "source": [
    "df20172018R = pd.read_csv('2017-2018_R_clean.csv')\n",
    "df20172018P = pd.read_csv('2017-2018_P_clean.csv')\n",
    "df20172018 = pd.concat([df20172018R,df20172018P])\n",
    "df20172018.to_csv('20172018_clean.csv', encoding='utf-8', index=False)"
   ]
  },
  {
   "cell_type": "code",
   "execution_count": null,
   "id": "90ed4963",
   "metadata": {},
   "outputs": [],
   "source": [
    "df20182019R = pd.read_csv('2018-2019_R_clean.csv')\n",
    "df20182019P = pd.read_csv('2018-2019_P_clean.csv')\n",
    "df20182019 = pd.concat([df20182019R,df20182019P])\n",
    "df20182019.to_csv('20182019_clean.csv', encoding='utf-8', index=False)"
   ]
  },
  {
   "cell_type": "code",
   "execution_count": null,
   "id": "4a81a706-435a-4576-8fd0-dcf502f66ee0",
   "metadata": {},
   "outputs": [],
   "source": [
    "df20192020R = pd.read_csv('2019-2020_R_clean.csv')\n",
    "df20192020P = pd.read_csv('2019-2020_P_clean.csv')\n",
    "df20192020 = pd.concat([df20192020R,df20192020P])\n",
    "df20192020.to_csv('20192020_clean.csv', encoding='utf-8', index=False)"
   ]
  },
  {
   "cell_type": "code",
   "execution_count": null,
   "id": "ecc822d3-9fa4-4f82-b725-0e0d716c0981",
   "metadata": {},
   "outputs": [],
   "source": [
    "df20202021R = pd.read_csv('2020-2021_R_clean.csv')\n",
    "df20202021P = pd.read_csv('2020-2021_P_clean.csv')\n",
    "df20202021 = pd.concat([df20202021R,df20202021P])\n",
    "df20202021.to_csv('20202021_clean.csv', encoding='utf-8', index=False)"
   ]
  },
  {
   "cell_type": "code",
   "execution_count": null,
   "id": "bb4172ca",
   "metadata": {},
   "outputs": [],
   "source": [
    "df20182020 = pd.concat([df20182019 ,df20192020])\n",
    "df20182021 = pd.concat([df20182020 ,df20202021])\n",
    "df20182020 = pd.concat([df20182019 ,df20192020])\n",
    "df20182020.to_csv('20182020_clean.csv', encoding='utf-8', index=False)"
   ]
  },
  {
   "cell_type": "code",
   "execution_count": null,
   "id": "3c977f69",
   "metadata": {},
   "outputs": [],
   "source": [
    "data_clean = pd.concat([df20162017,df20172018])\n",
    "data_clean = pd.concat([data_clean ,df20182020]).reset_index(drop = True)\n",
    "data_clean.to_csv('data_clean.csv', encoding='utf-8', index=False)"
   ]
  },
  {
   "cell_type": "code",
   "execution_count": null,
   "id": "4261bd17",
   "metadata": {},
   "outputs": [],
   "source": [
    "data_clean.head(10)"
   ]
  },
  {
   "cell_type": "code",
   "execution_count": null,
   "id": "03aa7556-156e-486c-a20e-9012638b098d",
   "metadata": {},
   "outputs": [],
   "source": []
  }
 ],
 "metadata": {
  "kernelspec": {
   "display_name": "Python 3 (ipykernel)",
   "language": "python",
   "name": "python3"
  },
  "language_info": {
   "codemirror_mode": {
    "name": "ipython",
    "version": 3
   },
   "file_extension": ".py",
   "mimetype": "text/x-python",
   "name": "python",
   "nbconvert_exporter": "python",
   "pygments_lexer": "ipython3",
   "version": "3.9.13"
  }
 },
 "nbformat": 4,
 "nbformat_minor": 5
}
