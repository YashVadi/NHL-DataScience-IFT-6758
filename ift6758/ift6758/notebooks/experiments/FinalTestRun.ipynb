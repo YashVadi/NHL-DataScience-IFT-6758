{
 "cells": [
  {
   "cell_type": "code",
   "execution_count": null,
   "id": "f6535dfa-2a35-4004-8a2f-79134375a4d0",
   "metadata": {
    "tags": []
   },
   "outputs": [],
   "source": [
    "import pandas as pd\n",
    "import numpy as np\n",
    "import os\n",
    "from matplotlib import pyplot as plt\n",
    "import seaborn as sns\n",
    "\n",
    "from comet_ml import Experiment\n",
    "from comet_ml.integration.sklearn import log_model\n",
    "\n",
    "from dotenv import load_dotenv, find_dotenv\n",
    "from sklearn.linear_model import LogisticRegression\n",
    "from sklearn.preprocessing import StandardScaler\n",
    "from sklearn import metrics \n",
    "from sklearn.metrics import roc_curve, auc\n",
    "\n",
    "import warnings\n",
    "warnings.filterwarnings('ignore')\n",
    "\n",
    "import pickle\n",
    "load_dotenv(find_dotenv())\n",
    "\n",
    "COMET_API_KEY = os.environ.get(\"COMET_API_KEY\")\n",
    "from comet_ml.api import API\n",
    "import sys\n",
    "\n",
    "sys.path.append('/Users/iamyash/Desktop/NHL-DataScience-lIFT-6758')  # Add the root project directory path\n",
    "api = API() \n",
    "\n",
    "from src.utils.utils import *\n",
    "from src.utils.plot_graphe import *\n",
    "from src.utils.result_plot_utils import *\n",
    "\n",
    "from src.utils.result_plot_utils import plot_calibration_multi, plot_cumu_goal_multi, plot_goal_ratio_multi, plot_roc_multi"
   ]
  },
  {
   "cell_type": "markdown",
   "id": "94efb9c9-3f38-45e0-91ab-e917e2480df8",
   "metadata": {
    "tags": []
   },
   "source": [
    "# Playoffs test results"
   ]
  },
  {
   "cell_type": "code",
   "execution_count": null,
   "id": "35b7096c-9d59-4119-9d72-5cab584de07d",
   "metadata": {
    "tags": []
   },
   "outputs": [],
   "source": [
    "test_df = pd.read_csv(\"../../data/FE2/test_P.csv\")\n",
    "len(test_df)"
   ]
  },
  {
   "cell_type": "markdown",
   "id": "72226103-119f-4b74-b63b-f5bf892f34a6",
   "metadata": {
    "tags": []
   },
   "source": [
    "## baselines"
   ]
  },
  {
   "cell_type": "code",
   "execution_count": null,
   "id": "2881831e-fa90-4513-bcfa-45c08ad6fe62",
   "metadata": {
    "tags": []
   },
   "outputs": [],
   "source": [
    "api.download_registry_model(\"ift6758-milestone2-udem\", \"baseline_model_angle\", version=\"1.0.0\", output_path=\"../../models\", expand=True, stage=None)\n",
    "with open(\"../../models/baseline_model_angle.pkl\", 'rb') as m:\n",
    "    baseline_model_angle = pickle.load(m)\n",
    "    \n",
    "baseline_angle_preds = baseline_model_angle.predict_proba(test_df[['angle']].fillna(test_df['angle'].mode()))\n",
    "\n",
    "api.download_registry_model(\"ift6758-milestone2-udem\", \"baseline_model_ditance\", version=\"1.0.0\", output_path=\"../../models\", expand=True, stage=None)\n",
    "with open(\"../../models/baseline_model_ditance.pkl\", 'rb') as m:\n",
    "    baseline_model_distance = pickle.load(m)\n",
    "baseline_dist_preds = baseline_model_distance.predict_proba(test_df[['distance']].fillna(test_df['distance'].mode()))\n",
    "\n",
    "api.download_registry_model(\"ift6758-milestone2-udem\", \"baseline_model_distance-angle\", version=\"1.0.0\", output_path=\"../../models\", expand=True, stage=None)\n",
    "with open(\"../../models/baseline_model_distance+angle.pkl\", 'rb') as m:\n",
    "    baseline_model_distance_angle = pickle.load(m)\n",
    "baseline_dist_angle_preds = baseline_model_distance_angle.predict_proba(test_df[['distance', 'angle']].fillna(test_df[['distance', 'angle']].mode()))\n",
    " "
   ]
  },
  {
   "cell_type": "markdown",
   "id": "f2326aef-a853-42c2-8748-75aeac5e39b2",
   "metadata": {
    "jp-MarkdownHeadingCollapsed": true,
    "tags": []
   },
   "source": [
    "## Random Forest"
   ]
  },
  {
   "cell_type": "code",
   "execution_count": null,
   "id": "17e64d81-de9f-4d1c-b070-2f7b7c6c65c8",
   "metadata": {},
   "outputs": [],
   "source": []
  },
  {
   "cell_type": "markdown",
   "id": "808c7d61-3648-4892-9ba8-af45eda69d92",
   "metadata": {
    "jp-MarkdownHeadingCollapsed": true,
    "tags": []
   },
   "source": [
    "## XGBoost"
   ]
  },
  {
   "cell_type": "code",
   "execution_count": null,
   "id": "3af3f03a-a69f-413b-805a-04ed717f9368",
   "metadata": {
    "tags": []
   },
   "outputs": [],
   "source": [
    "api.download_registry_model(\"ift6758-milestone2-udem\", \"xgboost_3\", version=\"1.0.0\", output_path=\"../../models\", expand=True, stage=None)\n",
    "with open(\"../../models/XGBoost_3.pkl\", 'rb') as m:\n",
    "    xg_model = pickle.load(m)\n",
    "\n",
    "features_selected = ['y',\n",
    " 'speed',\n",
    " 'shotType_Snap Shot',\n",
    " 'isRebound',\n",
    " 'shotType_Wrap-around',\n",
    " 'game_time',\n",
    " 'shotType_Wrist Shot',\n",
    " 'eventPeriod',\n",
    " 'timeFromLastEvent',\n",
    " 'shotType_Slap Shot',\n",
    " 'shotType_Backhand',\n",
    " 'prevEventType_HIT',\n",
    " 'angle',\n",
    " 'prevEventType_STOP',\n",
    " 'distance',\n",
    " ]\n",
    "\n",
    "test_oneHot = pre_processing(test_df ,oneHot=True)\n",
    "X, y = get_X_y(test_oneHot)\n",
    "cols_when_model_builds = xg_model.get_booster().feature_names\n",
    "X_test_xg = X[cols_when_model_builds]\n",
    "\n",
    "preds_xg = xg_model.predict_proba(X[cols_when_model_builds])"
   ]
  },
  {
   "cell_type": "code",
   "execution_count": null,
   "id": "b952124b-ebbe-4903-b219-ba89be4541fd",
   "metadata": {
    "tags": []
   },
   "outputs": [],
   "source": [
    "models = [('Model:Distance only', baseline_dist_preds[:, 1]), ('Model:Angle only', baseline_angle_preds[:, 1]), ('Model:Distance+Angle', baseline_dist_angle_preds[:, 1]), ('Model:XGBoost(Best)', preds_xg[:,1])]\n",
    "\n",
    "\n",
    "plot_roc_multi(models, test_df[['isGoal']].values.reshape(-1))\n",
    "plot_calibration_multi(models, test_df[['isGoal']].values.reshape(-1))\n",
    "plot_goal_ratio_multi(models, test_df[['isGoal']].values.reshape(-1))\n",
    "plot_cumu_goal_multi(models, test_df[['isGoal']].values.reshape(-1))\n"
   ]
  },
  {
   "cell_type": "markdown",
   "id": "519ff3ac-7fc0-4c5c-a61c-ca1689602fa0",
   "metadata": {
    "tags": []
   },
   "source": [
    "## Regular Test results"
   ]
  },
  {
   "cell_type": "code",
   "execution_count": null,
   "id": "6b8da53a-1d6b-40d8-9cdb-0bef6ba78671",
   "metadata": {
    "tags": []
   },
   "outputs": [],
   "source": [
    "test_df = pd.read_csv(\"../../data/FE2/test_R.csv\")\n",
    "len(test_df)"
   ]
  },
  {
   "cell_type": "markdown",
   "id": "1a4d01e0-26ca-4d2b-9e37-d6501698e734",
   "metadata": {},
   "source": [
    "## Baselines"
   ]
  },
  {
   "cell_type": "code",
   "execution_count": null,
   "id": "f74b06f2-cacb-4967-8857-79312b84450f",
   "metadata": {
    "tags": []
   },
   "outputs": [],
   "source": [
    "api.download_registry_model(\"ift6758-milestone2-udem\", \"baseline_model_angle\", version=\"1.0.0\", output_path=\"../../models\", expand=True, stage=None)\n",
    "with open(\"../../models/baseline_model_angle.pkl\", 'rb') as m:\n",
    "    baseline_model_angle = pickle.load(m)\n",
    "    \n",
    "baseline_angle_preds = baseline_model_angle.predict_proba(test_df[['angle']].fillna(test_df['angle'].mode()))\n",
    "\n",
    "api.download_registry_model(\"ift6758-milestone2-udem\", \"baseline_model_ditance\", version=\"1.0.0\", output_path=\"../../models\", expand=True, stage=None)\n",
    "with open(\"../../models/baseline_model_ditance.pkl\", 'rb') as m:\n",
    "    baseline_model_distance = pickle.load(m)\n",
    "baseline_dist_preds = baseline_model_distance.predict_proba(test_df[['distance']].fillna(test_df['distance'].mode()))\n",
    "\n",
    "api.download_registry_model(\"ift6758-milestone2-udem\", \"baseline_model_distance-angle\", version=\"1.0.0\", output_path=\"../../models\", expand=True, stage=None)\n",
    "with open(\"../../models/baseline_model_distance+angle.pkl\", 'rb') as m:\n",
    "    baseline_model_distance_angle = pickle.load(m)\n",
    "baseline_dist_angle_preds = baseline_model_distance_angle.predict_proba(test_df[['distance', 'angle']].fillna(test_df[['distance', 'angle']].mode()))\n",
    " "
   ]
  },
  {
   "cell_type": "markdown",
   "id": "1278fa48-c99b-47e8-858e-b5d8bd27fd39",
   "metadata": {
    "tags": []
   },
   "source": [
    "## Random forest"
   ]
  },
  {
   "cell_type": "code",
   "execution_count": null,
   "id": "40ef0ed2-d296-4f22-a11f-254cd00cb87a",
   "metadata": {},
   "outputs": [],
   "source": []
  },
  {
   "cell_type": "markdown",
   "id": "46fd98b0-23dd-45da-a960-3eb3b08cfe15",
   "metadata": {},
   "source": [
    "## XGBoost"
   ]
  },
  {
   "cell_type": "code",
   "execution_count": null,
   "id": "88417112-f4c0-4e3c-bf99-b0ee6996d9c5",
   "metadata": {
    "tags": []
   },
   "outputs": [],
   "source": [
    "api.download_registry_model(\"ift6758-milestone2-udem\", \"xgboost_3\", version=\"1.0.0\", output_path=\"../../models\", expand=True, stage=None)\n",
    "with open(\"../../models/XGBoost_3.pkl\", 'rb') as m:\n",
    "    xg_model = pickle.load(m)\n",
    "\n",
    "features_selected = ['y',\n",
    " 'speed',\n",
    " 'shotType_Snap Shot',\n",
    " 'isRebound',\n",
    " 'shotType_Wrap-around',\n",
    " 'game_time',\n",
    " 'shotType_Wrist Shot',\n",
    " 'eventPeriod',\n",
    " 'timeFromLastEvent',\n",
    " 'shotType_Slap Shot',\n",
    " 'shotType_Backhand',\n",
    " 'prevEventType_HIT',\n",
    " 'angle',\n",
    " 'prevEventType_STOP',\n",
    " 'distance',\n",
    " ]\n",
    "\n",
    "test_oneHot = pre_processing(test_df ,oneHot=True)\n",
    "X, y = get_X_y(test_oneHot)\n",
    "cols_when_model_builds = xg_model.get_booster().feature_names\n",
    "X_test_xg = X[cols_when_model_builds]\n",
    "\n",
    "preds_xg = xg_model.predict_proba(X[cols_when_model_builds])"
   ]
  },
  {
   "cell_type": "code",
   "execution_count": null,
   "id": "d2536a70-15bb-45a8-90b0-7a2648bf8898",
   "metadata": {
    "tags": []
   },
   "outputs": [],
   "source": [
    "models = [('Model:Distance only', baseline_dist_preds[:, 1]), ('Model:Angle only', baseline_angle_preds[:, 1]), ('Model:Distance+Angle', baseline_dist_angle_preds[:, 1]), ('Model:XGBoost(Best)', preds_xg[:,1])]\n",
    "\n",
    "\n",
    "plot_roc_multi(models, test_df[['isGoal']].values.reshape(-1))\n",
    "plot_calibration_multi(models, test_df[['isGoal']].values.reshape(-1))\n",
    "plot_goal_ratio_multi(models, test_df[['isGoal']].values.reshape(-1))\n",
    "plot_cumu_goal_multi(models, test_df[['isGoal']].values.reshape(-1))\n"
   ]
  }
 ],
 "metadata": {
  "kernelspec": {
   "display_name": "Python 3 (ipykernel)",
   "language": "python",
   "name": "python3"
  },
  "language_info": {
   "codemirror_mode": {
    "name": "ipython",
    "version": 3
   },
   "file_extension": ".py",
   "mimetype": "text/x-python",
   "name": "python",
   "nbconvert_exporter": "python",
   "pygments_lexer": "ipython3",
   "version": "3.11.5"
  }
 },
 "nbformat": 4,
 "nbformat_minor": 5
}
